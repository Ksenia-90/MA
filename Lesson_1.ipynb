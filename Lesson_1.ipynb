{
  "nbformat": 4,
  "nbformat_minor": 0,
  "metadata": {
    "colab": {
      "name": "Lesson_1.ipynb",
      "provenance": [],
      "collapsed_sections": [],
      "authorship_tag": "ABX9TyNELxd8VpudHz/JZgsMhh1I",
      "include_colab_link": true
    },
    "kernelspec": {
      "name": "python3",
      "display_name": "Python 3"
    },
    "language_info": {
      "name": "python"
    }
  },
  "cells": [
    {
      "cell_type": "markdown",
      "metadata": {
        "id": "view-in-github",
        "colab_type": "text"
      },
      "source": [
        "<a href=\"https://colab.research.google.com/github/Ksenia-90/MA/blob/lesson_1/Lesson_1.ipynb\" target=\"_parent\"><img src=\"https://colab.research.google.com/assets/colab-badge.svg\" alt=\"Open In Colab\"/></a>"
      ]
    },
    {
      "cell_type": "markdown",
      "metadata": {
        "id": "4P9ydzVeB-1d"
      },
      "source": [
        "##***Тема 1. Знакомство с математическим анализом***"
      ]
    },
    {
      "cell_type": "markdown",
      "metadata": {
        "id": "oFLiqI2lDiPA"
      },
      "source": [
        "**1.Как соотносятся понятия “множество” и “последовательность”? (в ответе использовать слова типа: часть, целое, общее, частное, родитель, дочерний субъект и т. д.)**\n"
      ]
    },
    {
      "cell_type": "markdown",
      "metadata": {
        "id": "tldH8L3nD0Kr"
      },
      "source": [
        "**Ответ:** Последовательности являются результатом выбора элементов заданных множеств. Последовательность относится к множеству как дочерний субъект к родителю."
      ]
    },
    {
      "cell_type": "markdown",
      "metadata": {
        "id": "MQFQbPQ6EJs8"
      },
      "source": [
        "**2.Прочитать высказывания математической логики, построить их отрицания и установить истинность.**\n"
      ]
    },
    {
      "cell_type": "markdown",
      "metadata": {
        "id": "cA4SZ6glEtiK"
      },
      "source": [
        "1.Для любого y от 0 до 1, сигнум равен 1."
      ]
    },
    {
      "cell_type": "markdown",
      "metadata": {
        "id": "PlPePuIgPprb"
      },
      "source": [
        "$$\\forall y \\in [0; 1] : sgn(y)=1$$"
      ]
    },
    {
      "cell_type": "markdown",
      "metadata": {
        "id": "VC3rKQ_FIJbO"
      },
      "source": [
        "Отрицание:"
      ]
    },
    {
      "cell_type": "markdown",
      "metadata": {
        "id": "lZeu48NbPt90"
      },
      "source": [
        "$$\\exists y\\in [0; 1] : sgn(y)\\not=1$$"
      ]
    },
    {
      "cell_type": "markdown",
      "metadata": {
        "id": "qL9Z3z-kJsuE"
      },
      "source": [
        "2.Для любого натурального числа n, большего 2, существуют такие натуральные x, y и z, при которых x в степени n равен сумме y в степени n и z в степени n."
      ]
    },
    {
      "cell_type": "markdown",
      "metadata": {
        "id": "6lJmCD0YTj3R"
      },
      "source": [
        "$$\\forall n\\in \\mathbb{N}>2 :\\exists x, y, z\\in \\mathbb{N} : x^n = y^n + z^n$$"
      ]
    },
    {
      "cell_type": "markdown",
      "metadata": {
        "id": "HwAvEkmPKUGr"
      },
      "source": [
        "Отрицание:"
      ]
    },
    {
      "cell_type": "markdown",
      "metadata": {
        "id": "HARnNi-fQ-4G"
      },
      "source": [
        "$$\\exists n\\in \\mathbb{N}>2 :\\forall x, y, z\\in \\mathbb{N} : x^n\\ne y^n + z^n$$"
      ]
    },
    {
      "cell_type": "markdown",
      "metadata": {
        "id": "Bnd018_NNGT6"
      },
      "source": [
        "3.Для любого вещественного числа x существует вещественное число X, которое больше x."
      ]
    },
    {
      "cell_type": "markdown",
      "metadata": {
        "id": "yZvLNnieV6Rv"
      },
      "source": [
        "$$\\forall x\\in \\mathbb{R}\\exists X\\in \\mathbb{R} : X > x$$"
      ]
    },
    {
      "cell_type": "markdown",
      "metadata": {
        "id": "NywpCJwwNPqH"
      },
      "source": [
        "Отрицание:"
      ]
    },
    {
      "cell_type": "markdown",
      "metadata": {
        "id": "rVZ40XdmV-UT"
      },
      "source": [
        "$$\\exists x\\in \\mathbb{R}\\forall X\\in \\mathbb{R} : X\\leq x$$\n"
      ]
    },
    {
      "cell_type": "markdown",
      "metadata": {
        "id": "juAXBScyNfqg"
      },
      "source": [
        "4.Для любого комплексного x не существует комплексного y, при котором x больше y или x меньше y"
      ]
    },
    {
      "cell_type": "markdown",
      "metadata": {
        "id": "DLEglZfyRFkW"
      },
      "source": [
        "$$\\forall x\\in \\mathbb{C}\\forall y\\in \\mathbb{C} : x > y || x < y$$"
      ]
    },
    {
      "cell_type": "markdown",
      "metadata": {
        "id": "dFdcYsxaNjKX"
      },
      "source": [
        "Отрицание:"
      ]
    },
    {
      "cell_type": "markdown",
      "metadata": {
        "id": "RwYvDImvRN4C"
      },
      "source": [
        "$$\\exists x\\in \\mathbb{C}\\forall y\\in \\mathbb{C} : x\\leq y, \\ x\\geq y$$"
      ]
    },
    {
      "cell_type": "markdown",
      "metadata": {
        "id": "i2xrQGG_NhLO"
      },
      "source": [
        "5.Для любого y от 0 до п/2 существует epsilon больше 0, при котором sin(y) < sin(y + epsilon)."
      ]
    },
    {
      "cell_type": "markdown",
      "metadata": {
        "id": "qk0N1MkySi6z"
      },
      "source": [
        "$$\\forall y\\in[0; \\frac\\pi2]\\exists \\varepsilon > 0 : sin(y) < sin(y + \\varepsilon)$$"
      ]
    },
    {
      "cell_type": "markdown",
      "metadata": {
        "id": "SePvhH1BOFM0"
      },
      "source": [
        "Отрицание:"
      ]
    },
    {
      "cell_type": "markdown",
      "metadata": {
        "id": "M0hZdCPfSoFZ"
      },
      "source": [
        "$$\\exists y\\in[0; \\frac\\pi2]\\forall \\varepsilon\\leq 0 : sin(y)\\geq sin(y + \\varepsilon)$$"
      ]
    },
    {
      "cell_type": "markdown",
      "metadata": {
        "id": "s72G1lRLNNie"
      },
      "source": [
        "6.Для любого y от 0 до п (не включая п) существует epsilon больше 0, при котором cos(y) > cos(y + epsilon)"
      ]
    },
    {
      "cell_type": "markdown",
      "metadata": {
        "id": "cRh1lSiQS8jO"
      },
      "source": [
        "$$\\forall y\\in[0; \\pi)\\exists\\varepsilon > 0 : cos(y) > \\cos(y + \\varepsilon)$$"
      ]
    },
    {
      "cell_type": "markdown",
      "metadata": {
        "id": "l2o7stuxOSrt"
      },
      "source": [
        "Отрицание:"
      ]
    },
    {
      "cell_type": "markdown",
      "metadata": {
        "id": "hZ4UTGLRTAEV"
      },
      "source": [
        "$$\\exists y\\in[0; \\pi)\\forall\\varepsilon\\leq 0 : cos(y)\\leq \\cos(y + \\varepsilon)$$\n"
      ]
    },
    {
      "cell_type": "markdown",
      "metadata": {
        "id": "Lm0WnchAOURm"
      },
      "source": [
        "7.Существует x, не принадлежащий множествам натуральных, целых, рациональных, вещественных и комплексных чисел"
      ]
    },
    {
      "cell_type": "markdown",
      "metadata": {
        "id": "qV2SObfkSxaT"
      },
      "source": [
        "$$\\exists x : x\\notin \\{ \\mathbb {N, Z, Q, R, C } \\}$$"
      ]
    },
    {
      "cell_type": "markdown",
      "metadata": {
        "id": "qHOzNiczOZMA"
      },
      "source": [
        "Отрицание:"
      ]
    },
    {
      "cell_type": "markdown",
      "metadata": {
        "id": "PrcyrHZ2S1Ub"
      },
      "source": [
        "$$\\forall x : x\\notin \\{ \\mathbb {N, Z, Q, R, C } \\}$$"
      ]
    },
    {
      "cell_type": "markdown",
      "metadata": {
        "id": "JRL1bMRJFSr9"
      },
      "source": [
        "##***Тема 2 “Множество”***"
      ]
    },
    {
      "cell_type": "markdown",
      "metadata": {
        "id": "TG8_Bp-2FfzM"
      },
      "source": [
        "**1.Даны три множества a,b и с. Необходимо выполнить все изученные виды бинарных операций над всеми комбинациями множеств.**\n"
      ]
    },
    {
      "cell_type": "markdown",
      "metadata": {
        "id": "dUiYH_qLbxqm"
      },
      "source": [
        "Объединение множеств:\n",
        "* a = {11, 22, 33, 44}\n",
        "* b = {11, 33, 55}\n",
        "* c = {55, 66}\n",
        "* a ∪ b = {11, 22, 33, 44, 55}\n",
        "* b ∪ c = {11, 33, 55, 66}\n",
        "* a ∪ c = {11, 22, 33, 44, 55, 66}\n"
      ]
    },
    {
      "cell_type": "markdown",
      "metadata": {
        "id": "0fJqhgQ_eBoS"
      },
      "source": [
        "Пересечение множеств:\n",
        "* a = {11, 22, 33, 44}\n",
        "* b = {11, 33, 55}\n",
        "* c = {55, 66}\n",
        "* a ∩ b = {11, 33}\n",
        "* b ∩ c = {55}\n",
        "* a ∩ c = не пересекаются"
      ]
    },
    {
      "cell_type": "markdown",
      "metadata": {
        "id": "TKPeIftdfolc"
      },
      "source": [
        "Разность множеств:\n",
        "* a = {11, 22, 33, 44}\n",
        "* b = {11, 33, 55}\n",
        "* c = {55, 66}\n",
        "* a-b = {22, 44}\n",
        "* b-c = {11, 33}\n",
        "* с-b = {66}\n",
        "* b-a = {55}"
      ]
    },
    {
      "cell_type": "markdown",
      "metadata": {
        "id": "kUpR1N-QhNYt"
      },
      "source": [
        "Симметрическая разность множеств:\n",
        "* a = {11, 22, 33, 44}\n",
        "* b = {11, 33, 55}\n",
        "* c = {55, 66}\n",
        "* a-b = {22, 44, 55}\n",
        "* b-c = {11, 33, 55, 66}\n",
        "* а-с = {11, 22, 33, 44,55, 66}"
      ]
    },
    {
      "cell_type": "markdown",
      "metadata": {
        "id": "mxYRAxiQFw1t"
      },
      "source": [
        "**2.Выполнить задание 1 на языке Python**"
      ]
    },
    {
      "cell_type": "code",
      "metadata": {
        "id": "7UA9i1pFVgFW"
      },
      "source": [
        "import numpy as np\n",
        "import random\n",
        "import math"
      ],
      "execution_count": 3,
      "outputs": []
    },
    {
      "cell_type": "code",
      "metadata": {
        "id": "cUJKawnAApUJ"
      },
      "source": [
        "random.seed(42)\n",
        "a = ({random.randint(0, 99) for _ in range(random.randint(1, 15))})\n",
        "b = ({random.randint(0, 99) for _ in range(random.randint(1, 15))})\n",
        "c = ({random.randint(0, 99) for _ in range(random.randint(1, 15))})\n"
      ],
      "execution_count": 4,
      "outputs": []
    },
    {
      "cell_type": "code",
      "metadata": {
        "colab": {
          "base_uri": "https://localhost:8080/"
        },
        "id": "ASXTAfGtA_8H",
        "outputId": "0aca0338-e029-4fae-aaea-2bbab47c58c2"
      },
      "source": [
        "print(f'a = {a}')\n",
        "print(f'b = {b}')\n",
        "print(f'c = {c}')"
      ],
      "execution_count": 5,
      "outputs": [
        {
          "output_type": "stream",
          "text": [
            "a = {3, 35, 13, 14, 17, 86, 28, 94, 31}\n",
            "b = {64, 3, 4, 69, 71, 91, 75, 11, 77, 54, 25, 27, 29}\n",
            "c = {0, 97, 35, 69, 75, 20, 53, 89, 28, 57}\n"
          ],
          "name": "stdout"
        }
      ]
    },
    {
      "cell_type": "markdown",
      "metadata": {
        "id": "Kbo7OGWVCGKv"
      },
      "source": [
        "Объединение множеств:"
      ]
    },
    {
      "cell_type": "code",
      "metadata": {
        "colab": {
          "base_uri": "https://localhost:8080/"
        },
        "id": "A4BdVFWsUu-7",
        "outputId": "33eeb22b-0faa-4159-a7a3-0fa8517adb2f"
      },
      "source": [
        "print(a | b)\n",
        "print(b | c)\n",
        "print(a | c)"
      ],
      "execution_count": 7,
      "outputs": [
        {
          "output_type": "stream",
          "text": [
            "{64, 3, 4, 69, 71, 75, 11, 13, 14, 77, 17, 86, 25, 91, 28, 27, 94, 31, 29, 35, 54}\n",
            "{64, 0, 3, 4, 69, 71, 75, 11, 77, 20, 25, 89, 91, 27, 29, 28, 97, 35, 53, 54, 57}\n",
            "{0, 3, 69, 75, 13, 14, 17, 20, 86, 89, 28, 94, 31, 97, 35, 53, 57}\n"
          ],
          "name": "stdout"
        }
      ]
    },
    {
      "cell_type": "markdown",
      "metadata": {
        "id": "wNiWmekDDKXC"
      },
      "source": [
        "Пересечение множеств:\n"
      ]
    },
    {
      "cell_type": "code",
      "metadata": {
        "id": "KvvkfXjaVuAT",
        "outputId": "00eba2a0-2c14-4b3a-f4e4-7487f1923e6c",
        "colab": {
          "base_uri": "https://localhost:8080/"
        }
      },
      "source": [
        "print(a & b)\n",
        "print(b & c)\n",
        "print(a & c)"
      ],
      "execution_count": 8,
      "outputs": [
        {
          "output_type": "stream",
          "text": [
            "{3}\n",
            "{75, 69}\n",
            "{35, 28}\n"
          ],
          "name": "stdout"
        }
      ]
    },
    {
      "cell_type": "markdown",
      "metadata": {
        "id": "WXNw0s_VV9-0"
      },
      "source": [
        "Разность множеств:"
      ]
    },
    {
      "cell_type": "code",
      "metadata": {
        "id": "CyRYhoQuV9M4",
        "outputId": "88e01a14-35aa-4b42-9128-3f44d7f14d09",
        "colab": {
          "base_uri": "https://localhost:8080/"
        }
      },
      "source": [
        "print(a - b)\n",
        "print(b - c)\n",
        "print(a - c)\n",
        "print(c - b)\n",
        "print(b - a)\n",
        "print(c - a)"
      ],
      "execution_count": 9,
      "outputs": [
        {
          "output_type": "stream",
          "text": [
            "{35, 13, 14, 17, 86, 28, 94, 31}\n",
            "{64, 3, 4, 71, 27, 11, 77, 54, 25, 91, 29}\n",
            "{3, 13, 14, 17, 86, 94, 31}\n",
            "{0, 97, 35, 20, 53, 89, 28, 57}\n",
            "{64, 4, 69, 71, 27, 75, 11, 77, 54, 25, 91, 29}\n",
            "{0, 97, 69, 75, 20, 53, 89, 57}\n"
          ],
          "name": "stdout"
        }
      ]
    },
    {
      "cell_type": "markdown",
      "metadata": {
        "id": "i_rE9AXTWaH2"
      },
      "source": [
        "Симметрическая разность множеств:"
      ]
    },
    {
      "cell_type": "code",
      "metadata": {
        "id": "VOb0u9HmWcAV",
        "outputId": "7a58f77e-4bd7-460a-b1c6-3d4a06fd7891",
        "colab": {
          "base_uri": "https://localhost:8080/"
        }
      },
      "source": [
        "print(a ^ b)\n",
        "print(b ^ c)\n",
        "print(a ^ c)\n",
        "print(c ^ b)\n",
        "print(b ^ a)\n",
        "print(c ^ a)"
      ],
      "execution_count": 10,
      "outputs": [
        {
          "output_type": "stream",
          "text": [
            "{4, 11, 13, 14, 17, 25, 27, 28, 29, 31, 35, 54, 64, 69, 71, 75, 77, 86, 91, 94}\n",
            "{0, 3, 4, 11, 20, 25, 27, 28, 29, 35, 53, 54, 57, 64, 71, 77, 89, 91, 97}\n",
            "{0, 97, 3, 69, 75, 13, 14, 17, 20, 53, 86, 89, 31, 94, 57}\n",
            "{0, 3, 4, 11, 20, 25, 27, 28, 29, 35, 53, 54, 57, 64, 71, 77, 89, 91, 97}\n",
            "{4, 11, 13, 14, 17, 25, 27, 28, 29, 31, 35, 54, 64, 69, 71, 75, 77, 86, 91, 94}\n",
            "{0, 97, 3, 69, 75, 13, 14, 17, 20, 53, 86, 89, 57, 94, 31}\n"
          ],
          "name": "stdout"
        }
      ]
    }
  ]
}