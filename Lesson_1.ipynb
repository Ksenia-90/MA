{
  "nbformat": 4,
  "nbformat_minor": 0,
  "metadata": {
    "colab": {
      "name": "Lesson_1.ipynb",
      "provenance": [],
      "collapsed_sections": [],
      "authorship_tag": "ABX9TyOKlLnhRA555v6QdZhaMzAW",
      "include_colab_link": true
    },
    "kernelspec": {
      "name": "python3",
      "display_name": "Python 3"
    },
    "language_info": {
      "name": "python"
    }
  },
  "cells": [
    {
      "cell_type": "markdown",
      "metadata": {
        "id": "view-in-github",
        "colab_type": "text"
      },
      "source": [
        "<a href=\"https://colab.research.google.com/github/Ksenia-90/MA/blob/lesson_1/Lesson_1.ipynb\" target=\"_parent\"><img src=\"https://colab.research.google.com/assets/colab-badge.svg\" alt=\"Open In Colab\"/></a>"
      ]
    },
    {
      "cell_type": "markdown",
      "metadata": {
        "id": "4P9ydzVeB-1d"
      },
      "source": [
        "##***Тема 1. Знакомство с математическим анализом***"
      ]
    },
    {
      "cell_type": "markdown",
      "metadata": {
        "id": "oFLiqI2lDiPA"
      },
      "source": [
        "**1.Как соотносятся понятия “множество” и “последовательность”? (в ответе использовать слова типа: часть, целое, общее, частное, родитель, дочерний субъект и т. д.)**\n"
      ]
    },
    {
      "cell_type": "markdown",
      "metadata": {
        "id": "tldH8L3nD0Kr"
      },
      "source": [
        "**Ответ:** Последовательности являются результатом выбора элементов заданных множеств. Последовательность относится к множеству как дочерний субъект к родителю."
      ]
    },
    {
      "cell_type": "markdown",
      "metadata": {
        "id": "MQFQbPQ6EJs8"
      },
      "source": [
        "**2.Прочитать высказывания математической логики, построить их отрицания и установить истинность.**\n"
      ]
    },
    {
      "cell_type": "markdown",
      "metadata": {
        "id": "cA4SZ6glEtiK"
      },
      "source": [
        "1.Для любого y от 0 до 1, сигнум равен 1."
      ]
    },
    {
      "cell_type": "markdown",
      "metadata": {
        "id": "PlPePuIgPprb"
      },
      "source": [
        "$$\\forall y \\in [0; 1] : sgn(y)=1$$"
      ]
    },
    {
      "cell_type": "markdown",
      "metadata": {
        "id": "VC3rKQ_FIJbO"
      },
      "source": [
        "Отрицание:"
      ]
    },
    {
      "cell_type": "markdown",
      "metadata": {
        "id": "lZeu48NbPt90"
      },
      "source": [
        "$$\\exists y\\in [0; 1] : sgn(y)\\not=1$$"
      ]
    },
    {
      "cell_type": "markdown",
      "metadata": {
        "id": "qL9Z3z-kJsuE"
      },
      "source": [
        "2.Для любого натурального числа n, большего 2, существуют такие натуральные x, y и z, при которых x в степени n равен сумме y в степени n и z в степени n."
      ]
    },
    {
      "cell_type": "markdown",
      "metadata": {
        "id": "6lJmCD0YTj3R"
      },
      "source": [
        "$$\\forall n\\in \\mathbb{N}>2 :\\exists x, y, z\\in \\mathbb{N} : x^n = y^n + z^n$$"
      ]
    },
    {
      "cell_type": "markdown",
      "metadata": {
        "id": "HwAvEkmPKUGr"
      },
      "source": [
        "Отрицание:"
      ]
    },
    {
      "cell_type": "markdown",
      "metadata": {
        "id": "HARnNi-fQ-4G"
      },
      "source": [
        "$$\\exists n\\in \\mathbb{N}>2 :\\forall x, y, z\\in \\mathbb{N} : x^n\\ne y^n + z^n$$"
      ]
    },
    {
      "cell_type": "markdown",
      "metadata": {
        "id": "Bnd018_NNGT6"
      },
      "source": [
        "3.Для любого вещественного числа x существует вещественное число X, которое больше x."
      ]
    },
    {
      "cell_type": "markdown",
      "metadata": {
        "id": "yZvLNnieV6Rv"
      },
      "source": [
        "$$\\forall x\\in \\mathbb{R}\\exists X\\in \\mathbb{R} : X &gt; x$$"
      ]
    },
    {
      "cell_type": "markdown",
      "metadata": {
        "id": "NywpCJwwNPqH"
      },
      "source": [
        "Отрицание:"
      ]
    },
    {
      "cell_type": "markdown",
      "metadata": {
        "id": "rVZ40XdmV-UT"
      },
      "source": [
        "$$\\exists x\\in \\mathbb{R}\\forall X\\in \\mathbb{R} : X\\leq x$$\n"
      ]
    },
    {
      "cell_type": "markdown",
      "metadata": {
        "id": "juAXBScyNfqg"
      },
      "source": [
        "4.Для любого комплексного x не существует комплексного y, при котором x больше y или x меньше y"
      ]
    },
    {
      "cell_type": "markdown",
      "metadata": {
        "id": "DLEglZfyRFkW"
      },
      "source": [
        "$$\\forall x\\in \\mathbb{C}\\forall y\\in \\mathbb{C} : x > y || x < y$$"
      ]
    },
    {
      "cell_type": "markdown",
      "metadata": {
        "id": "dFdcYsxaNjKX"
      },
      "source": [
        "Отрицание:"
      ]
    },
    {
      "cell_type": "markdown",
      "metadata": {
        "id": "RwYvDImvRN4C"
      },
      "source": [
        "$$\\exists x\\in \\mathbb{C}\\forall y\\in \\mathbb{C} : x\\leq y, \\ x\\geq y$$"
      ]
    },
    {
      "cell_type": "markdown",
      "metadata": {
        "id": "i2xrQGG_NhLO"
      },
      "source": [
        "5.Для любого y от 0 до п/2 существует epsilon больше 0, при котором sin(y) < sin(y + epsilon)."
      ]
    },
    {
      "cell_type": "markdown",
      "metadata": {
        "id": "qk0N1MkySi6z"
      },
      "source": [
        "$$\\forall y\\in[0; \\frac\\pi2]\\exists \\varepsilon &gt; 0 : sin(y)&lt; sin(y + \\varepsilon)$$"
      ]
    },
    {
      "cell_type": "markdown",
      "metadata": {
        "id": "SePvhH1BOFM0"
      },
      "source": [
        "Отрицание:"
      ]
    },
    {
      "cell_type": "markdown",
      "metadata": {
        "id": "M0hZdCPfSoFZ"
      },
      "source": [
        "$$\\exists y\\in[0; \\frac\\pi2]\\forall \\varepsilon\\leq 0 : sin(y)\\geq sin(y + \\varepsilon)$$"
      ]
    },
    {
      "cell_type": "markdown",
      "metadata": {
        "id": "s72G1lRLNNie"
      },
      "source": [
        "6.Для любого y от 0 до п (не включая pi) существует epsilon больше 0, при котором cos(y) > cos(y + epsilon)"
      ]
    },
    {
      "cell_type": "markdown",
      "metadata": {
        "id": "cRh1lSiQS8jO"
      },
      "source": [
        "$$\\forall y\\in[0; \\pi)\\exists\\varepsilon &gt; 0 : cos(y) &gt; \\cos(y + \\varepsilon)$$"
      ]
    },
    {
      "cell_type": "markdown",
      "metadata": {
        "id": "l2o7stuxOSrt"
      },
      "source": [
        "Отрицание:"
      ]
    },
    {
      "cell_type": "markdown",
      "metadata": {
        "id": "hZ4UTGLRTAEV"
      },
      "source": [
        "$$\\exists y\\in[0; \\pi)\\forall\\varepsilon\\leq 0 : cos(y)\\leq \\cos(y + \\varepsilon)$$\n"
      ]
    },
    {
      "cell_type": "markdown",
      "metadata": {
        "id": "Lm0WnchAOURm"
      },
      "source": [
        "7.Существует x, не принадлежащий множествам натуральных, целых, рациональных, вещественных и комплексных чисел"
      ]
    },
    {
      "cell_type": "markdown",
      "metadata": {
        "id": "qV2SObfkSxaT"
      },
      "source": [
        "$$\\exists x : x\\notin \\{ \\mathbb {N, Z, Q, R, C } \\}$$"
      ]
    },
    {
      "cell_type": "markdown",
      "metadata": {
        "id": "qHOzNiczOZMA"
      },
      "source": [
        "Отрицание:"
      ]
    },
    {
      "cell_type": "markdown",
      "metadata": {
        "id": "PrcyrHZ2S1Ub"
      },
      "source": [
        "$$\\forall x : x\\notin \\{ \\mathbb {N, Z, Q, R, C } \\}$$"
      ]
    },
    {
      "cell_type": "markdown",
      "metadata": {
        "id": "JRL1bMRJFSr9"
      },
      "source": [
        "##***Тема 2 “Множество”***"
      ]
    },
    {
      "cell_type": "markdown",
      "metadata": {
        "id": "TG8_Bp-2FfzM"
      },
      "source": [
        "**1.Даны три множества a,b и с. Необходимо выполнить все изученные виды бинарных операций над всеми комбинациями множеств.**\n"
      ]
    },
    {
      "cell_type": "markdown",
      "metadata": {
        "id": "mxYRAxiQFw1t"
      },
      "source": [
        "**2.Выполнить задание 1 на языке Python**"
      ]
    }
  ]
}