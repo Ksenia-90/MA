{
  "nbformat": 4,
  "nbformat_minor": 0,
  "metadata": {
    "colab": {
      "name": "lesson_3.ipynb",
      "provenance": [],
      "authorship_tag": "ABX9TyMxB5NgBiUuAkwKcfCFlKCe",
      "include_colab_link": true
    },
    "kernelspec": {
      "name": "python3",
      "display_name": "Python 3"
    },
    "language_info": {
      "name": "python"
    }
  },
  "cells": [
    {
      "cell_type": "markdown",
      "metadata": {
        "id": "view-in-github",
        "colab_type": "text"
      },
      "source": [
        "<a href=\"https://colab.research.google.com/github/Ksenia-90/MA/blob/lesson_3/lesson_3.ipynb\" target=\"_parent\"><img src=\"https://colab.research.google.com/assets/colab-badge.svg\" alt=\"Open In Colab\"/></a>"
      ]
    },
    {
      "cell_type": "markdown",
      "metadata": {
        "id": "-4FO7fwt_sFF"
      },
      "source": [
        "Задание 3: На языке Python предложить алгоритм вычисляющий численно предел с точностью eps = 10 ** -7"
      ]
    },
    {
      "cell_type": "code",
      "metadata": {
        "id": "2EZK-H-l_teJ"
      },
      "source": [
        "import math\n",
        "from sympy import factorial"
      ],
      "execution_count": null,
      "outputs": []
    },
    {
      "cell_type": "markdown",
      "metadata": {
        "id": "n3wz3uNh9Hn0"
      },
      "source": [
        "n / (n! ** (1 / n))\n",
        "n = 1, +oo"
      ]
    },
    {
      "cell_type": "code",
      "metadata": {
        "colab": {
          "base_uri": "https://localhost:8080/"
        },
        "id": "ade3LEu68fLk",
        "outputId": "b097e602-0956-4684-8a3f-3663ab5596c2"
      },
      "source": [
        "def func(n):\n",
        "    return n / pow(factorial(n), 1 / n)\n",
        "print(f'{func(n)}')"
      ],
      "execution_count": 18,
      "outputs": [
        {
          "output_type": "stream",
          "text": [
            "2.71698842372422\n"
          ],
          "name": "stdout"
        }
      ]
    },
    {
      "cell_type": "code",
      "metadata": {
        "id": "u4H9pTwv5fy-",
        "colab": {
          "base_uri": "https://localhost:8080/"
        },
        "outputId": "29e75f29-348f-4905-cd8c-508bdfad7155"
      },
      "source": [
        "eps = 10 ** -7\n",
        "i = 1\n",
        "n = 1\n",
        "y0 = func(n)\n",
        "while True:\n",
        "    i += 1\n",
        "    n += 1\n",
        "    y1 = f(n)\n",
        "    if abs(y0 - y1) <= eps:\n",
        "        break\n",
        "    y0 = y1\n",
        "print(f'iter: {i}')"
      ],
      "execution_count": 19,
      "outputs": [
        {
          "output_type": "stream",
          "text": [
            "iter: 11779\n"
          ],
          "name": "stdout"
        }
      ]
    }
  ]
}