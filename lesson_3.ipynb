{
  "nbformat": 4,
  "nbformat_minor": 0,
  "metadata": {
    "colab": {
      "name": "lesson_3.ipynb",
      "provenance": [],
      "authorship_tag": "ABX9TyNUXglMkaILE/aZXU+Uhpty",
      "include_colab_link": true
    },
    "kernelspec": {
      "name": "python3",
      "display_name": "Python 3"
    },
    "language_info": {
      "name": "python"
    }
  },
  "cells": [
    {
      "cell_type": "markdown",
      "metadata": {
        "id": "view-in-github",
        "colab_type": "text"
      },
      "source": [
        "<a href=\"https://colab.research.google.com/github/Ksenia-90/MA/blob/lesson_3/lesson_3.ipynb\" target=\"_parent\"><img src=\"https://colab.research.google.com/assets/colab-badge.svg\" alt=\"Open In Colab\"/></a>"
      ]
    },
    {
      "cell_type": "markdown",
      "metadata": {
        "id": "-4FO7fwt_sFF"
      },
      "source": [
        "Задание 3: На языке Python предложить алгоритм вычисляющий численно предел с точностью eps = 10 ** -7"
      ]
    },
    {
      "cell_type": "code",
      "metadata": {
        "id": "2EZK-H-l_teJ"
      },
      "source": [
        "import math\n",
        "from sympy import factorial"
      ],
      "execution_count": null,
      "outputs": []
    },
    {
      "cell_type": "markdown",
      "metadata": {
        "id": "n3wz3uNh9Hn0"
      },
      "source": [
        "n / (n! ** (1 / n))\n",
        "n = 1, +oo"
      ]
    },
    {
      "cell_type": "code",
      "metadata": {
        "id": "ade3LEu68fLk"
      },
      "source": [
        "def func(n):\n",
        "    return n / pow(factorial(n), 1 / n)"
      ],
      "execution_count": 14,
      "outputs": []
    },
    {
      "cell_type": "code",
      "metadata": {
        "id": "u4H9pTwv5fy-",
        "colab": {
          "base_uri": "https://localhost:8080/"
        },
        "outputId": "6a38defd-e6eb-4637-9d12-13e5b96026db"
      },
      "source": [
        "eps = 10 ** -7\n",
        "i = 1\n",
        "n = 1\n",
        "y0 = func(n)\n",
        "while True:\n",
        "    i += 1\n",
        "    n += 1\n",
        "    y1 = f(n)\n",
        "    if abs(y0 - y1) <= eps:\n",
        "        break\n",
        "    y0 = y1\n",
        "print(f'iter: {i}')\n",
        "print(f'f(n) = {y0}')"
      ],
      "execution_count": 16,
      "outputs": [
        {
          "output_type": "stream",
          "text": [
            "iter: 11779\n",
            "f(n) = 2.71698832372746\n"
          ],
          "name": "stdout"
        }
      ]
    }
  ]
}